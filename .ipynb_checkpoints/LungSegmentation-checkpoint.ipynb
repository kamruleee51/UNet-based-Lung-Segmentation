{
 "cells": [
  {
   "cell_type": "markdown",
   "metadata": {},
   "source": [
    "## Import all the required Packages and library"
   ]
  },
  {
   "cell_type": "code",
   "execution_count": null,
   "metadata": {},
   "outputs": [
    {
     "name": "stderr",
     "output_type": "stream",
     "text": [
      "C:\\Users\\kamru\\Anaconda3\\lib\\site-packages\\h5py\\__init__.py:34: FutureWarning: Conversion of the second argument of issubdtype from `float` to `np.floating` is deprecated. In future, it will be treated as `np.float64 == np.dtype(float).type`.\n",
      "  from ._conv import register_converters as _register_converters\n"
     ]
    }
   ],
   "source": [
    "import os\n",
    "import numpy as np # linear algebra\n",
    "import pandas as pd # data processing, CSV file I/O (e.g. pd.read_csv)\n",
    "import cv2\n",
    "import matplotlib.pyplot as plt\n",
    "%matplotlib inline\n",
    "from sklearn.model_selection import train_test_split\n",
    "from keras.models import Model\n",
    "from keras.layers import *\n",
    "from keras.optimizers import Adam\n",
    "from keras.regularizers import l2\n",
    "from keras.preprocessing.image import ImageDataGenerator\n",
    "import keras.backend as K\n",
    "from keras.callbacks import LearningRateScheduler, ModelCheckpoint"
   ]
  },
  {
   "cell_type": "markdown",
   "metadata": {},
   "source": [
    "##  Image Path for loading the Images\n",
    "\n"
   ]
  },
  {
   "cell_type": "code",
   "execution_count": null,
   "metadata": {
    "collapsed": true
   },
   "outputs": [],
   "source": [
    "CurrentDirectory=os.getcwd()\n",
    "imagePath = CurrentDirectory+'/data/2d_images/'\n",
    "maskPath = CurrentDirectory+'/data/2d_masks/'\n",
    "height, width = 512, 512\n",
    "SEED=42"
   ]
  },
  {
   "cell_type": "markdown",
   "metadata": {},
   "source": [
    "## Create the data vector of the Images "
   ]
  },
  {
   "cell_type": "code",
   "execution_count": null,
   "metadata": {
    "collapsed": true
   },
   "outputs": [],
   "source": [
    "all_images = [x for x in sorted(os.listdir(imagePath)) if x[-4:] == '.tif']\n",
    "\n",
    "x_data = np.empty((len(all_images), height, width), dtype='float32')\n",
    "\n",
    "for i, name in enumerate(all_images):\n",
    "    im = cv2.imread(imagePath + name, cv2.IMREAD_UNCHANGED).astype(\"int16\").astype('float32')\n",
    "    im = cv2.resize(im, dsize=(width, height), interpolation=cv2.INTER_LANCZOS4)\n",
    "    im = (im - np.min(im)) / (np.max(im) - np.min(im))\n",
    "    x_data[i] = im\n",
    "\n",
    "y_data = np.empty((len(all_images), height, width), dtype='float32')\n",
    "for i, name in enumerate(all_images):\n",
    "    im = cv2.imread(maskPath + name, cv2.IMREAD_UNCHANGED).astype('float32')/255.\n",
    "    im = cv2.resize(im, dsize=(width, height), interpolation=cv2.INTER_NEAREST)\n",
    "    y_data[i] = im"
   ]
  },
  {
   "cell_type": "code",
   "execution_count": null,
   "metadata": {},
   "outputs": [],
   "source": [
    "print(x_data.shape)\n",
    "print(y_data.shape)"
   ]
  },
  {
   "cell_type": "code",
   "execution_count": null,
   "metadata": {},
   "outputs": [],
   "source": [
    "fig, ax = plt.subplots(1,2, figsize = (8,4))\n",
    "ax[0].imshow(x_data[10], cmap='gray')\n",
    "ax[1].imshow(y_data[10], cmap='gray')\n",
    "plt.show()"
   ]
  },
  {
   "cell_type": "code",
   "execution_count": null,
   "metadata": {},
   "outputs": [],
   "source": [
    "x_data = x_data[:,:,:,np.newaxis]\n",
    "y_data = y_data[:,:,:,np.newaxis]\n",
    "print(x_data.shape)\n",
    "print(y_data.shape)\n",
    "x_train, x_val, y_train, y_val = train_test_split(x_data, y_data, test_size = 0.5)\n",
    "print(x_train.shape)\n",
    "print(x_val.shape)\n",
    "print(y_train.shape)\n",
    "print(y_val.shape)\n",
    "shape=x_train.shape[1:]"
   ]
  },
  {
   "cell_type": "code",
   "execution_count": null,
   "metadata": {
    "collapsed": true
   },
   "outputs": [],
   "source": [
    "def dice_coef(y_true, y_pred):\n",
    "    y_true_f = K.flatten(y_true)\n",
    "    y_pred_f = K.flatten(y_pred)\n",
    "    intersection = K.sum(y_true_f * y_pred_f)\n",
    "    return (2. * intersection + K.epsilon()) / (K.sum(y_true_f) + K.sum(y_pred_f) + K.epsilon())\n",
    "\n",
    "def dice_coef_loss(y_true, y_pred):\n",
    "    return -dice_coef(y_true, y_pred)"
   ]
  },
  {
   "cell_type": "code",
   "execution_count": null,
   "metadata": {},
   "outputs": [],
   "source": [
    "input_layer = Input(shape=x_train.shape[1:])\n",
    "\n",
    "conv_1 = Conv2D(filters=8, kernel_size=(3,3), activation='relu', padding='same')(input_layer)\n",
    "maxpool = MaxPool2D(strides=(2,2))(conv_1)\n",
    "\n",
    "conv_2 = Conv2D(filters=16, kernel_size=(3,3), activation='relu', padding='same')(maxpool)\n",
    "maxpool = MaxPool2D(strides=(2,2))(conv_2)\n",
    "\n",
    "conv_3 = Conv2D(filters=32, kernel_size=(3,3), activation='relu', padding='same')(maxpool)\n",
    "maxpool = MaxPool2D(strides=(2,2))(conv_3)\n",
    "\n",
    "conv_4 = Conv2D(filters=32, kernel_size=(3,3), activation='relu', padding='same')(maxpool)\n",
    "maxpool = MaxPool2D(strides=(2,2))(conv_4)\n",
    "\n",
    "conv_5 = Conv2D(filters=32, kernel_size=(1,1), activation='relu', padding='same')(maxpool)\n",
    "\n",
    "deconv = concatenate([UpSampling2D(size=(2,2))(conv_5), conv_4], axis=-1)\n",
    "deconv = Conv2D(filters=32, kernel_size=(2,2), activation='relu', padding='same')(deconv)\n",
    "\n",
    "deconv = concatenate([UpSampling2D(size=(2,2))(deconv), conv_3], axis=-1)\n",
    "deconv = Conv2D(filters=24, kernel_size=(2,2), activation='relu', padding='same')(deconv)\n",
    "\n",
    "deconv = concatenate([UpSampling2D(size=(2,2))(deconv), conv_2], axis=-1)\n",
    "deconv = Conv2D(filters=16, kernel_size=(2,2), activation='relu', padding='same')(deconv)\n",
    "\n",
    "deconv = concatenate([UpSampling2D(size=(2,2))(deconv), conv_1], axis=-1)\n",
    "deconv = Conv2D(filters=16, kernel_size=(2,2), activation='relu', padding='same')(deconv)\n",
    "\n",
    "deconv = Conv2D(filters=64, kernel_size=(1,1), activation='relu')(deconv)\n",
    "\n",
    "deconv= Dropout(0.5)(deconv)\n",
    "\n",
    "\n",
    "output_layer = Conv2D(filters=1, kernel_size=(1,1), activation='sigmoid')(deconv)\n",
    "                                                         \n",
    "model = Model(input_layer, output_layer)\n",
    "\n",
    "model.summary()"
   ]
  },
  {
   "cell_type": "code",
   "execution_count": null,
   "metadata": {
    "collapsed": true
   },
   "outputs": [],
   "source": [
    "def my_generator(x_train, y_train, batch_size):\n",
    "    data_generator = ImageDataGenerator(\n",
    "            width_shift_range=0.1,\n",
    "            height_shift_range=0.1,\n",
    "            rotation_range=10,\n",
    "            zoom_range=0.1).flow(x_train, x_train, batch_size, seed=SEED)\n",
    "    mask_generator = ImageDataGenerator(\n",
    "            width_shift_range=0.1,\n",
    "            height_shift_range=0.1,\n",
    "            rotation_range=10,\n",
    "            zoom_range=0.1).flow(y_train, y_train, batch_size, seed=SEED)\n",
    "    while True:\n",
    "        x_batch, _ = data_generator.next()\n",
    "        y_batch, _ = mask_generator.next()\n",
    "        yield x_batch, y_batch"
   ]
  },
  {
   "cell_type": "code",
   "execution_count": null,
   "metadata": {},
   "outputs": [],
   "source": [
    "image_batch, mask_batch = next(my_generator(x_train, y_train, 8))\n",
    "fix, ax = plt.subplots(8,2, figsize=(8,20))\n",
    "for i in range(8):\n",
    "    ax[i,0].imshow(image_batch[i,:,:,0])\n",
    "    ax[i,1].imshow(mask_batch[i,:,:,0])\n",
    "plt.show()"
   ]
  },
  {
   "cell_type": "code",
   "execution_count": null,
   "metadata": {
    "collapsed": true
   },
   "outputs": [],
   "source": [
    "model.compile(optimizer=Adam(2e-4), loss=dice_coef_loss, metrics=[dice_coef])\n",
    "weight_saver = ModelCheckpoint('SavedModel.h5', monitor='val_dice_coef',save_best_only=True, save_weights_only=True)\n",
    "annealer = LearningRateScheduler(lambda x: 1e-3 * 0.8 ** x)"
   ]
  },
  {
   "cell_type": "code",
   "execution_count": null,
   "metadata": {},
   "outputs": [],
   "source": [
    "hist = model.fit_generator(my_generator(x_train, y_train, 8),\n",
    "                           steps_per_epoch = 200,\n",
    "                           validation_data = (x_val, y_val),\n",
    "                           epochs=20, verbose=1,\n",
    "                           callbacks = [weight_saver, annealer])"
   ]
  },
  {
   "cell_type": "code",
   "execution_count": null,
   "metadata": {
    "collapsed": true
   },
   "outputs": [],
   "source": [
    "model.load_weights('SavedModel.h5')"
   ]
  },
  {
   "cell_type": "code",
   "execution_count": null,
   "metadata": {
    "collapsed": true
   },
   "outputs": [],
   "source": [
    "plt.plot(hist.history['loss'], color='b')\n",
    "plt.plot(hist.history['val_loss'], color='r')\n",
    "plt.grid('on')\n",
    "plt.show()\n",
    "plt.plot(hist.history['dice_coef'], color='b')\n",
    "plt.plot(hist.history['val_dice_coef'], color='r')\n",
    "plt.grid('on')\n",
    "plt.show()"
   ]
  },
  {
   "cell_type": "code",
   "execution_count": null,
   "metadata": {
    "collapsed": true
   },
   "outputs": [],
   "source": [
    "plt.figure()\n",
    "plt.imshow(model.predict(x_train[0].reshape(1,height, width, 1))[0,:,:,0], cmap='gray')"
   ]
  },
  {
   "cell_type": "code",
   "execution_count": null,
   "metadata": {
    "collapsed": true
   },
   "outputs": [],
   "source": [
    "plt.figure()\n",
    "y_hat = model.predict(x_val)\n",
    "fig, ax = plt.subplots(1,3,figsize=(12,6))\n",
    "ax[0].imshow(x_val[0,:,:,0], cmap='gray')\n",
    "ax[1].imshow(y_val[0,:,:,0], cmap='gray')\n",
    "ax[2].imshow(y_hat[0,:,:,0], cmap='gray')"
   ]
  },
  {
   "cell_type": "code",
   "execution_count": null,
   "metadata": {
    "collapsed": true
   },
   "outputs": [],
   "source": []
  }
 ],
 "metadata": {
  "kernelspec": {
   "display_name": "Python 3",
   "language": "python",
   "name": "python3"
  },
  "language_info": {
   "codemirror_mode": {
    "name": "ipython",
    "version": 3
   },
   "file_extension": ".py",
   "mimetype": "text/x-python",
   "name": "python",
   "nbconvert_exporter": "python",
   "pygments_lexer": "ipython3",
   "version": "3.6.3"
  }
 },
 "nbformat": 4,
 "nbformat_minor": 2
}
